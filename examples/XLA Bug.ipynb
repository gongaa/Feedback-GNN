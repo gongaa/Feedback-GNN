{
 "cells": [
  {
   "cell_type": "code",
   "execution_count": 7,
   "id": "1a08cc91",
   "metadata": {},
   "outputs": [
    {
     "name": "stdout",
     "output_type": "stream",
     "text": [
      "Number of GPUs available : 1\n",
      "Only GPU number 0 used.\n"
     ]
    }
   ],
   "source": [
    "import tensorflow as tf\n",
    "import time # for throughput measurements\n",
    "import numpy as np\n",
    "\n",
    "# enable logging\n",
    "# import os\n",
    "# os.environ['TF_CPP_MIN_LOG_LEVEL'] = '2'\n",
    "\n",
    "\n",
    "# Configure the notebook to use only a single GPU and allocate only as much memory as needed\n",
    "# For more details, see https://www.tensorflow.org/guide/gpu\n",
    "gpus = tf.config.list_physical_devices('GPU')\n",
    "print('Number of GPUs available :', len(gpus))\n",
    "if gpus:\n",
    "    gpu_num = 0 # Number of the GPU to be used\n",
    "    try:\n",
    "        #tf.config.set_visible_devices([], 'GPU')\n",
    "        tf.config.set_visible_devices(gpus[gpu_num], 'GPU')\n",
    "        print('Only GPU number', gpu_num, 'used.')\n",
    "        tf.config.experimental.set_memory_growth(gpus[gpu_num], True)\n",
    "    except RuntimeError as e:\n",
    "        print(e)\n"
   ]
  },
  {
   "cell_type": "code",
   "execution_count": 8,
   "id": "dbf88e98",
   "metadata": {},
   "outputs": [
    {
     "name": "stdout",
     "output_type": "stream",
     "text": [
      "tf.Tensor(\n",
      "[[1 1 1 ... 1 0 0]\n",
      " [1 0 1 ... 1 0 0]\n",
      " [1 1 0 ... 0 1 1]\n",
      " ...\n",
      " [1 1 0 ... 1 1 0]\n",
      " [1 0 1 ... 1 1 0]\n",
      " [0 0 0 ... 1 0 1]], shape=(400, 800), dtype=int32)\n"
     ]
    }
   ],
   "source": [
    "bs = 10000\n",
    "n = 800\n",
    "rank = 400\n",
    "pcm = np.random.randint(2, size=(rank, n)) # a random binary matrix\n",
    "pcm = tf.convert_to_tensor(pcm, dtype=tf.int32)\n",
    "print(pcm)"
   ]
  },
  {
   "cell_type": "code",
   "execution_count": 9,
   "id": "f0a378c3",
   "metadata": {},
   "outputs": [],
   "source": [
    "class Masking_Model(tf.keras.Model):\n",
    "# For storing error strings that the BP decoder failed to decode\n",
    "    def __init__(self, pcm):\n",
    "        super().__init__()        \n",
    "        self.pcm = pcm\n",
    "        self.rank, self.n = pcm.shape\n",
    "      \n",
    "    @tf.function(jit_compile=True, reduce_retracing=True) # XLA mode\n",
    "#     @tf.function() # graph mode\n",
    "    def call(self, bs, p):\n",
    "\n",
    "        noise = tf.random.uniform([bs, self.n], 0, 1, tf.float32)\n",
    "        noise = (noise < 0.5)\n",
    "        e = tf.cast(noise, tf.int32) # random binary noise\n",
    "        print(e)\n",
    "        \n",
    "        s = tf.matmul(self.pcm, tf.transpose(e, (1,0))) # shape [rank, bs], do not mod 2\n",
    "        \n",
    "        mask = ((tf.random.uniform([bs], 0, 1, tf.float32)) < 0.8) # random binary mask\n",
    "        \n",
    "        new_e = tf.boolean_mask(e, mask)\n",
    "        new_s = tf.boolean_mask(s, mask, axis=1)\n",
    "        \n",
    "        inner_s = tf.matmul(self.pcm, tf.transpose(new_e, (1,0)))\n",
    "        return tf.reduce_sum(tf.abs(new_s - inner_s))\n"
   ]
  },
  {
   "cell_type": "code",
   "execution_count": 11,
   "id": "7a3b5d95",
   "metadata": {},
   "outputs": [
    {
     "name": "stderr",
     "output_type": "stream",
     "text": [
      "2023-11-15 11:52:02.746283: I tensorflow/core/common_runtime/executor.cc:1197] [/device:CPU:0] (DEBUG INFO) Executor start aborting (this does not indicate an error and you can ignore this message): INVALID_ARGUMENT: You must feed a value for placeholder tensor 'bs' with dtype int32\n",
      "\t [[{{node bs}}]]\n",
      "2023-11-15 11:52:02.752318: I tensorflow/core/common_runtime/executor.cc:1197] [/device:CPU:0] (DEBUG INFO) Executor start aborting (this does not indicate an error and you can ignore this message): INVALID_ARGUMENT: You must feed a value for placeholder tensor 'bs' with dtype int32\n",
      "\t [[{{node bs}}]]\n"
     ]
    },
    {
     "name": "stdout",
     "output_type": "stream",
     "text": [
      "Tensor(\"Cast:0\", shape=(None, 800), dtype=int32)\n",
      "tf.Tensor(0, shape=(), dtype=int32)\n"
     ]
    }
   ],
   "source": [
    "model = Masking_Model(pcm)\n",
    "result = model(bs, 0.1)\n",
    "print(result)"
   ]
  },
  {
   "cell_type": "code",
   "execution_count": 12,
   "id": "17cf4a70",
   "metadata": {},
   "outputs": [],
   "source": [
    "class Masking_Model_Buggy(tf.keras.Model):\n",
    "# For storing error strings that the BP decoder failed to decode\n",
    "    def __init__(self, pcm):\n",
    "        super().__init__()        \n",
    "        self.pcm = pcm\n",
    "        self.rank, self.n = pcm.shape\n",
    "      \n",
    "    @tf.function(jit_compile=True, reduce_retracing=True) # XLA mode\n",
    "#     @tf.function() # graph mode\n",
    "    def call(self, bs, p):\n",
    "\n",
    "        noise = tf.random.uniform([bs, self.n], 0, 1, tf.float32)\n",
    "        noise = (noise < 0.5)\n",
    "        e = tf.cast(noise, tf.int32) # random binary noise\n",
    "        print(e)\n",
    "        \n",
    "        s = tf.matmul(self.pcm, tf.transpose(e, (1,0))) # shape [rank, bs], do not mod 2\n",
    "        \n",
    "        mask = ((tf.random.uniform([bs], 0, 1, tf.float32)) < 0.8) # random binary mask\n",
    "        \n",
    "        new_e = tf.boolean_mask(e, mask)\n",
    "        new_s = tf.boolean_mask(s, mask, axis=1)\n",
    "\n",
    "        return new_e, new_s"
   ]
  },
  {
   "cell_type": "code",
   "execution_count": 15,
   "id": "873e2181",
   "metadata": {},
   "outputs": [
    {
     "name": "stderr",
     "output_type": "stream",
     "text": [
      "2023-11-15 11:52:35.783221: I tensorflow/core/common_runtime/executor.cc:1197] [/device:CPU:0] (DEBUG INFO) Executor start aborting (this does not indicate an error and you can ignore this message): INVALID_ARGUMENT: You must feed a value for placeholder tensor 'bs' with dtype int32\n",
      "\t [[{{node bs}}]]\n",
      "2023-11-15 11:52:35.788081: I tensorflow/core/common_runtime/executor.cc:1197] [/device:CPU:0] (DEBUG INFO) Executor start aborting (this does not indicate an error and you can ignore this message): INVALID_ARGUMENT: You must feed a value for placeholder tensor 'bs' with dtype int32\n",
      "\t [[{{node bs}}]]\n"
     ]
    },
    {
     "name": "stdout",
     "output_type": "stream",
     "text": [
      "Tensor(\"Cast:0\", shape=(None, 800), dtype=int32)\n",
      "tf.Tensor(45191284, shape=(), dtype=int32)\n",
      "tf.Tensor([8040  800], shape=(2,), dtype=int32)\n",
      "tf.Tensor([ 400 8040], shape=(2,), dtype=int32)\n"
     ]
    }
   ],
   "source": [
    "model_buggy = Masking_Model_Buggy(pcm)\n",
    "e, s = model_buggy(bs, 0.1)\n",
    "outer_s = tf.matmul(pcm, tf.transpose(e, (1,0)))\n",
    "print(tf.reduce_sum(tf.abs(s - outer_s)))\n",
    "print(tf.shape(e))\n",
    "print(tf.shape(s))"
   ]
  }
 ],
 "metadata": {
  "kernelspec": {
   "display_name": "Python 3 (ipykernel)",
   "language": "python",
   "name": "python3"
  },
  "language_info": {
   "codemirror_mode": {
    "name": "ipython",
    "version": 3
   },
   "file_extension": ".py",
   "mimetype": "text/x-python",
   "name": "python",
   "nbconvert_exporter": "python",
   "pygments_lexer": "ipython3",
   "version": "3.9.16"
  }
 },
 "nbformat": 4,
 "nbformat_minor": 5
}
