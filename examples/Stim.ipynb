{
 "cells": [
  {
   "cell_type": "code",
   "execution_count": 3,
   "id": "4cde262c",
   "metadata": {},
   "outputs": [
    {
     "name": "stdout",
     "output_type": "stream",
     "text": [
      "1.12.0\n"
     ]
    }
   ],
   "source": [
    "import stim\n",
    "print(stim.__version__)"
   ]
  },
  {
   "cell_type": "code",
   "execution_count": 4,
   "id": "3fdbafbc",
   "metadata": {},
   "outputs": [],
   "source": [
    "circuit = stim.Circuit()\n",
    "circuit.append(\"H\", [0])\n",
    "circuit.append(\"CNOT\", [0,1])\n",
    "circuit.append(\"M\", [0,1])"
   ]
  },
  {
   "cell_type": "code",
   "execution_count": 5,
   "id": "a895313d",
   "metadata": {},
   "outputs": [
    {
     "data": {
      "text/plain": [
       "stim.Circuit('''\n",
       "    H 0\n",
       "    CX 0 1\n",
       "    M 0 1\n",
       "''')"
      ]
     },
     "execution_count": 5,
     "metadata": {},
     "output_type": "execute_result"
    }
   ],
   "source": [
    "circuit"
   ]
  },
  {
   "cell_type": "code",
   "execution_count": 6,
   "id": "65f463af",
   "metadata": {},
   "outputs": [
    {
     "data": {
      "text/html": [
       "<pre>q0: -H-@-M:rec[0]-\n",
       "       |\n",
       "q1: ---X-M:rec[1]-</pre>"
      ],
      "text/plain": [
       "q0: -H-@-M:rec[0]-\n",
       "       |\n",
       "q1: ---X-M:rec[1]-"
      ]
     },
     "execution_count": 6,
     "metadata": {},
     "output_type": "execute_result"
    }
   ],
   "source": [
    "circuit.diagram()"
   ]
  },
  {
   "cell_type": "code",
   "execution_count": 7,
   "id": "1aaf1068",
   "metadata": {},
   "outputs": [
    {
     "data": {
      "image/svg+xml": [
       "<svg viewBox=\"0 0 288 224\"  version=\"1.1\" xmlns=\"http://www.w3.org/2000/svg\">\n",
       "<g id=\"qubit_lines\">\n",
       "<path id=\"qubit_line:0\" d=\"M64,64 L256,64 \" stroke=\"black\"/>\n",
       "<text dominant-baseline=\"central\" text-anchor=\"end\" font-family=\"monospace\" font-size=\"12\" x=\"64\" y=\"64\">q0</text>\n",
       "<path id=\"qubit_line:1\" d=\"M64,128 L256,128 \" stroke=\"black\"/>\n",
       "<text dominant-baseline=\"central\" text-anchor=\"end\" font-family=\"monospace\" font-size=\"12\" x=\"64\" y=\"128\">q1</text>\n",
       "</g>\n",
       "<rect x=\"80\" y=\"48\" width=\"32\" height=\"32\" stroke=\"black\" fill=\"white\"/>\n",
       "<text dominant-baseline=\"central\" text-anchor=\"middle\" font-family=\"monospace\" font-size=\"30\" x=\"96\" y=\"64\">H</text>\n",
       "<path d=\"M160,64 L160,128 \" stroke=\"black\"/>\n",
       "<circle cx=\"160\" cy=\"64\" r=\"12\" stroke=\"none\" fill=\"black\"/>\n",
       "<circle cx=\"160\" cy=\"128\" r=\"12\" stroke=\"black\" fill=\"white\"/>\n",
       "<path d=\"M148,128 L172,128 M160,116 L160,140 \" stroke=\"black\"/>\n",
       "<rect x=\"208\" y=\"48\" width=\"32\" height=\"32\" stroke=\"black\" fill=\"black\"/>\n",
       "<text dominant-baseline=\"central\" text-anchor=\"middle\" font-family=\"monospace\" font-size=\"30\" x=\"224\" y=\"64\" fill=\"white\">M</text>\n",
       "<text text-anchor=\"middle\" font-family=\"monospace\" font-size=\"8\" x=\"224\" y=\"44\">rec[0]</text>\n",
       "<rect x=\"208\" y=\"112\" width=\"32\" height=\"32\" stroke=\"black\" fill=\"black\"/>\n",
       "<text dominant-baseline=\"central\" text-anchor=\"middle\" font-family=\"monospace\" font-size=\"30\" x=\"224\" y=\"128\" fill=\"white\">M</text>\n",
       "<text text-anchor=\"middle\" font-family=\"monospace\" font-size=\"8\" x=\"224\" y=\"108\">rec[1]</text>\n",
       "</svg>"
      ],
      "text/plain": [
       "<svg viewBox=\"0 0 288 224\"  version=\"1.1\" xmlns=\"http://www.w3.org/2000/svg\">\n",
       "<g id=\"qubit_lines\">\n",
       "<path id=\"qubit_line:0\" d=\"M64,64 L256,64 \" stroke=\"black\"/>\n",
       "<text dominant-baseline=\"central\" text-anchor=\"end\" font-family=\"monospace\" font-size=\"12\" x=\"64\" y=\"64\">q0</text>\n",
       "<path id=\"qubit_line:1\" d=\"M64,128 L256,128 \" stroke=\"black\"/>\n",
       "<text dominant-baseline=\"central\" text-anchor=\"end\" font-family=\"monospace\" font-size=\"12\" x=\"64\" y=\"128\">q1</text>\n",
       "</g>\n",
       "<rect x=\"80\" y=\"48\" width=\"32\" height=\"32\" stroke=\"black\" fill=\"white\"/>\n",
       "<text dominant-baseline=\"central\" text-anchor=\"middle\" font-family=\"monospace\" font-size=\"30\" x=\"96\" y=\"64\">H</text>\n",
       "<path d=\"M160,64 L160,128 \" stroke=\"black\"/>\n",
       "<circle cx=\"160\" cy=\"64\" r=\"12\" stroke=\"none\" fill=\"black\"/>\n",
       "<circle cx=\"160\" cy=\"128\" r=\"12\" stroke=\"black\" fill=\"white\"/>\n",
       "<path d=\"M148,128 L172,128 M160,116 L160,140 \" stroke=\"black\"/>\n",
       "<rect x=\"208\" y=\"48\" width=\"32\" height=\"32\" stroke=\"black\" fill=\"black\"/>\n",
       "<text dominant-baseline=\"central\" text-anchor=\"middle\" font-family=\"monospace\" font-size=\"30\" x=\"224\" y=\"64\" fill=\"white\">M</text>\n",
       "<text text-anchor=\"middle\" font-family=\"monospace\" font-size=\"8\" x=\"224\" y=\"44\">rec[0]</text>\n",
       "<rect x=\"208\" y=\"112\" width=\"32\" height=\"32\" stroke=\"black\" fill=\"black\"/>\n",
       "<text dominant-baseline=\"central\" text-anchor=\"middle\" font-family=\"monospace\" font-size=\"30\" x=\"224\" y=\"128\" fill=\"white\">M</text>\n",
       "<text text-anchor=\"middle\" font-family=\"monospace\" font-size=\"8\" x=\"224\" y=\"108\">rec[1]</text>\n",
       "</svg>"
      ]
     },
     "execution_count": 7,
     "metadata": {},
     "output_type": "execute_result"
    }
   ],
   "source": [
    "circuit.diagram('timeline-svg')"
   ]
  },
  {
   "cell_type": "code",
   "execution_count": 9,
   "id": "5e0fb876",
   "metadata": {},
   "outputs": [
    {
     "name": "stdout",
     "output_type": "stream",
     "text": [
      "[[ True  True]\n",
      " [ True  True]\n",
      " [ True  True]\n",
      " [False False]\n",
      " [ True  True]\n",
      " [ True  True]\n",
      " [False False]\n",
      " [ True  True]\n",
      " [False False]\n",
      " [ True  True]]\n"
     ]
    }
   ],
   "source": [
    "sampler = circuit.compile_sampler()\n",
    "\n",
    "print(sampler.sample(shots=10))"
   ]
  },
  {
   "cell_type": "code",
   "execution_count": 4,
   "id": "c84a0558",
   "metadata": {},
   "outputs": [],
   "source": [
    "import matplotlib.pyplot as plt\n",
    "import numpy as np\n",
    "import os\n",
    "os.environ['TF_CPP_MIN_LOG_LEVEL'] = '2' # INFO, WARNING messages are not printed\n",
    "\n",
    "# uninstall sionna first\n",
    "import sys\n",
    "from pathlib import Path\n",
    "\n",
    "sys.path.append(str(Path('..')))\n",
    "\n",
    "from sionna.fec.ldpc import *\n",
    "import time\n",
    "\n",
    "GHP_n882_k24 = create_QC_GHP_codes(63, create_cyclic_permuting_matrix(7, [27,54,0]), [0,1,6]) # 18 <= d <= 24\n",
    "my_code = GHP_n882_k24"
   ]
  },
  {
   "cell_type": "code",
   "execution_count": 14,
   "id": "21442516",
   "metadata": {},
   "outputs": [
    {
     "name": "stdout",
     "output_type": "stream",
     "text": [
      "Elapsed time:  7.833534591132775\n",
      "number of errors: 1000\n"
     ]
    }
   ],
   "source": [
    "from mqt.qecc import *\n",
    "\n",
    "code = Code(my_code.hx, my_code.hz)\n",
    "decoder = UFHeuristic()\n",
    "decoder.set_code(code)\n",
    "\n",
    "start_time = time.perf_counter()\n",
    "num_err = 0\n",
    "for i in range(1000):\n",
    "    x_err = sample_iid_pauli_err(code.n, 0.05)\n",
    "    decoder.decode(code.get_x_syndrome(x_err))\n",
    "    result = decoder.result\n",
    "    residual_err = np.array(x_err) ^ np.array(result.estimate)\n",
    "    num_err += not code.is_x_stabilizer(residual_err)\n",
    "end_time = time.perf_counter()\n",
    "print(\"Elapsed time: \", end_time-start_time)\n",
    "print(\"number of errors:\", num_err)"
   ]
  },
  {
   "cell_type": "code",
   "execution_count": 17,
   "id": "83e09713",
   "metadata": {},
   "outputs": [
    {
     "name": "stdout",
     "output_type": "stream",
     "text": [
      "<Unnamed CSS code>, (3,6)-[[882,24,nan]]\n",
      " -Block dimensions: Pass\n",
      " -PCMs commute hz@hx.T==0: Pass\n",
      " -PCMs commute hx@hz.T==0: Pass\n",
      " -lx \\in ker{hz} AND lz \\in ker{hx}: Pass\n",
      " -lx and lz anticommute: Pass\n",
      " -<Unnamed CSS code> is a valid CSS code w/ params (3,6)-[[882,24,nan]]\n",
      "True\n"
     ]
    }
   ],
   "source": [
    "from ldpc import bposd_decoder\n",
    "from bposd.css import css_code\n",
    "\n",
    "code=css_code(hx=my_code.hx, hz=my_code.hz)\n",
    "print(code.test())\n",
    "\n",
    "bpd=bposd_decoder(\n",
    "    code.hz,#the parity check matrix\n",
    "    error_rate=0.05,\n",
    "    channel_probs=[None], #assign error_rate to each qubit. This will override \"error_rate\" input variable\n",
    "    max_iter=100, #the maximum number of iterations for BP)\n",
    "    bp_method=\"ms\",\n",
    "    ms_scaling_factor=0.8, #min sum scaling factor. If set to zero the variable scaling factor method is used\n",
    "    osd_method=\"osd_cs\", #the OSD method. Choose from:  1) \"osd_e\", \"osd_cs\", \"osd0\"\n",
    "    osd_order=0 #the osd search depth\n",
    "    )"
   ]
  },
  {
   "cell_type": "code",
   "execution_count": 19,
   "id": "1a768a66",
   "metadata": {},
   "outputs": [
    {
     "name": "stdout",
     "output_type": "stream",
     "text": [
      "Elapsed time:  27.085997107904404\n",
      "number of errors: 21\n"
     ]
    }
   ],
   "source": [
    "start_time = time.perf_counter()\n",
    "num_err = 0\n",
    "for i in range(50000):\n",
    "    err = np. random.uniform(size=882) < 0.05\n",
    "    syndrome = code.hz @ err % 2\n",
    "    bpd.decode(syndrome)\n",
    "    residual_error=(bpd.osdw_decoding + err) %2\n",
    "    a=(code.lz @ residual_error % 2).any()\n",
    "    num_err += a\n",
    "end_time = time.perf_counter()\n",
    "print(\"Elapsed time: \", end_time-start_time)\n",
    "print(\"number of errors:\", num_err)"
   ]
  }
 ],
 "metadata": {
  "kernelspec": {
   "display_name": "Python 3 (ipykernel)",
   "language": "python",
   "name": "python3"
  },
  "language_info": {
   "codemirror_mode": {
    "name": "ipython",
    "version": 3
   },
   "file_extension": ".py",
   "mimetype": "text/x-python",
   "name": "python",
   "nbconvert_exporter": "python",
   "pygments_lexer": "ipython3",
   "version": "3.9.16"
  }
 },
 "nbformat": 4,
 "nbformat_minor": 5
}
