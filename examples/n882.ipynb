{
 "cells": [
  {
   "cell_type": "code",
   "execution_count": 2,
   "id": "68685eac",
   "metadata": {},
   "outputs": [
    {
     "name": "stdout",
     "output_type": "stream",
     "text": [
      "Number of GPUs available : 1\n",
      "Only GPU number 0 used.\n"
     ]
    }
   ],
   "source": [
    "%reload_ext autoreload\n",
    "%autoreload 2\n",
    "%matplotlib inline\n",
    "import matplotlib.pyplot as plt\n",
    "import numpy as np\n",
    "import os\n",
    "os.environ['TF_CPP_MIN_LOG_LEVEL'] = '2' \n",
    "import tensorflow as tf\n",
    "import time \n",
    "\n",
    "\n",
    "gpus = tf.config.list_physical_devices('GPU')\n",
    "print('Number of GPUs available :', len(gpus))\n",
    "if gpus:\n",
    "    gpu_num = 0 \n",
    "    try:\n",
    "        tf.config.set_visible_devices(gpus[gpu_num], 'GPU')\n",
    "        print('Only GPU number', gpu_num, 'used.')\n",
    "        tf.config.experimental.set_memory_growth(gpus[gpu_num], True)\n",
    "    except RuntimeError as e:\n",
    "        print(e)\n",
    "\n",
    "import sys\n",
    "from pathlib import Path\n",
    "\n",
    "sys.path.append(str(Path('..')))\n",
    "\n",
    "from sionna.fec.ldpc import QLDPCBPDecoder, Feedback_GNN, load_weights\n",
    "from sionna.fec.ldpc import Sandwich_BP_GNN_Evaluation_Model \n",
    "from sionna.fec.ldpc import *\n",
    "from sionna.utils.plotting import PlotBER\n",
    "\n",
    "from tqdm.notebook import tqdm"
   ]
  },
  {
   "cell_type": "code",
   "execution_count": 3,
   "id": "9ff94bbe",
   "metadata": {},
   "outputs": [],
   "source": [
    "GHP_n882_k24 = create_QC_GHP_codes(63, create_cyclic_permuting_matrix(7, [27,54,0]), [0,1,6]) # 18 <= d <= 24\n",
    "code = GHP_n882_k24\n",
    "\n",
    "bs = tf.constant(5000) # please adjust bs to best fit into your gpu\n",
    "max_iter = tf.constant(200000)\n",
    "\n",
    "n = tf.constant(code.N)\n",
    "cn_z = tf.constant(code.hz.shape[0])\n",
    "cn_x = tf.constant(code.hx.shape[0])\n",
    "\n",
    "G = Feedback_GNN(code=code, \n",
    "                 num_msg_dims=tf.constant(20),\n",
    "                 num_hidden_units=tf.constant(40),\n",
    "                 num_mlp_layers=2,\n",
    "                 reduce_op=\"mean\",      \n",
    "                 activation=\"tanh\",\n",
    "                 use_bias=True)\n",
    "G((tf.zeros((bs, n, 3)), tf.zeros((cn_x, bs)), tf.zeros((cn_z, bs)), \n",
    "                  tf.zeros((cn_x, bs)), tf.zeros((cn_z, bs))))\n",
    "load_weights(G, f\"../sionna/fec/ldpc/weights/feedback_GNN_n882_k24_wt_4_60_iter_64_16_mixed.npy\")     #### change here\n",
    "\n",
    "ber_plot = PlotBER()"
   ]
  },
  {
   "cell_type": "code",
   "execution_count": 4,
   "id": "fc895e25",
   "metadata": {},
   "outputs": [
    {
     "name": "stdout",
     "output_type": "stream",
     "text": [
      "        p |    Flagged |       BLER | flag errors | block errors |  num blocks | runtime [s] |    status\n",
      "---------------------------------------------------------------------------------------------------------------------------------------\n",
      "     0.14 | 4.7500e-01 | 4.7500e-01 |        2375 |         2375 |        5000 |         8.4 |reached target block errors\n",
      "     0.13 | 2.3240e-01 | 2.3240e-01 |        1162 |         1162 |        5000 |         0.5 |reached target block errors\n",
      "     0.12 | 7.9200e-02 | 7.9200e-02 |         396 |          396 |        5000 |         0.5 |reached target block errors\n",
      "     0.11 | 1.8500e-02 | 1.8500e-02 |         185 |          185 |       10000 |         0.9 |reached target block errors\n",
      "      0.1 | 3.7667e-03 | 3.7667e-03 |         113 |          113 |       30000 |         2.7 |reached target block errors\n",
      "     0.09 | 5.8824e-04 | 5.8824e-04 |         100 |          100 |      170000 |        15.5 |reached target block errors\n",
      "     0.08 | 7.5472e-05 | 7.5472e-05 |         100 |          100 |     1325000 |       121.4 |reached target block errors\n",
      "     0.07 | 1.0554e-05 | 1.0554e-05 |         100 |          100 |     9475000 |       868.6 |reached target block errors\n",
      "     0.06 | 2.2161e-06 | 2.2161e-06 |         100 |          100 |    45125000 |      4144.5 |reached target block errors\n",
      "     0.05 | 4.5652e-07 | 4.5652e-07 |         100 |          100 |   219050000 |     20084.5 |reached target block errors\n",
      "     0.04 | 1.9849e-07 | 1.9849e-07 |           5 |            5 |    25190000 |      2309.1 |iter: 5037/200000\n",
      "Simulation stopped by the user @ EbNo = 0.03999999910593033 dB\n"
     ]
    },
    {
     "data": {
      "text/plain": [
       "(<tf.Tensor: shape=(11,), dtype=float64, numpy=\n",
       " array([4.75000000e-01, 2.32400000e-01, 7.92000000e-02, 1.85000000e-02,\n",
       "        3.76666667e-03, 5.88235294e-04, 7.54716981e-05, 1.05540897e-05,\n",
       "        2.21606648e-06, 4.56516777e-07, 1.98491465e-07])>,\n",
       " <tf.Tensor: shape=(11,), dtype=float64, numpy=\n",
       " array([4.75000000e-01, 2.32400000e-01, 7.92000000e-02, 1.85000000e-02,\n",
       "        3.76666667e-03, 5.88235294e-04, 7.54716981e-05, 1.05540897e-05,\n",
       "        2.21606648e-06, 4.56516777e-07, 1.98491465e-07])>)"
      ]
     },
     "execution_count": 4,
     "metadata": {},
     "output_type": "execute_result"
    }
   ],
   "source": [
    "num_iter1 = tf.constant(64)\n",
    "num_iter2 = tf.constant(16)\n",
    "factor1 = tf.constant(1.0)\n",
    "factor2 = tf.constant(1.0)\n",
    "\n",
    "decoder1 = QLDPCBPDecoder(code=code, num_iter=num_iter1, normalization_factor=factor1, cn_type=\"boxplus-phi\", trainable=False, stage_one=True)\n",
    "decoder2 = QLDPCBPDecoder(code=code, num_iter=num_iter2, normalization_factor=factor2, cn_type=\"boxplus-phi\", trainable=False, stage_one=True)\n",
    "\n",
    "model_eval = Sandwich_BP_GNN_Evaluation_Model(code, [decoder1]+[decoder2]*3, [G]*3, num_layers=4)\n",
    "p = np.arange(0.04, 0.141, 0.01)[::-1]\n",
    "ber_plot.simulate(model_eval,\n",
    "              ebno_dbs=p,\n",
    "              batch_size=bs,\n",
    "              num_target_block_errors=100, # stop sim after 2000 bit errors\n",
    "              legend=f\"feedback GNN {factor1.numpy():.2f} (G,G,G)\",\n",
    "              soft_estimates=True,\n",
    "              max_mc_iter=max_iter,\n",
    "              early_stop=True, \n",
    "              add_bler=True, \n",
    "              show_fig=False, \n",
    "              qldpc=True,\n",
    "              forward_keyboard_interrupt=False)"
   ]
  },
  {
   "cell_type": "code",
   "execution_count": 6,
   "id": "ab98726f",
   "metadata": {},
   "outputs": [
    {
     "name": "stdout",
     "output_type": "stream",
     "text": [
      "        p |    Flagged |       BLER | flag errors | block errors |  num blocks | runtime [s] |    status\n",
      "---------------------------------------------------------------------------------------------------------------------------------------\n",
      "     0.14 | 4.7420e-01 | 4.7420e-01 |        2371 |         2371 |        5000 |        13.7 |reached target block errors\n",
      "     0.13 | 2.2440e-01 | 2.2440e-01 |        1122 |         1122 |        5000 |         0.7 |reached target block errors\n",
      "     0.12 | 6.7400e-02 | 6.7400e-02 |         337 |          337 |        5000 |         0.7 |reached target block errors\n",
      "     0.11 | 1.5200e-02 | 1.5200e-02 |         152 |          152 |       10000 |         1.4 |reached target block errors\n",
      "      0.1 | 2.4000e-03 | 2.4000e-03 |         108 |          108 |       45000 |         6.0 |reached target block errors\n",
      "     0.09 | 2.6579e-04 | 2.6579e-04 |         101 |          101 |      380000 |        50.6 |reached target block errors\n",
      "     0.08 | 5.1680e-05 | 5.1680e-05 |         100 |          100 |     1935000 |       260.0 |reached target block errors\n",
      "     0.07 | 8.8300e-06 | 8.8300e-06 |         100 |          100 |    11325000 |      1516.9 |reached target block errors\n",
      "     0.06 | 1.3647e-06 | 1.3647e-06 |         100 |          100 |    73275000 |      9768.3 |reached target block errors\n",
      "     0.05 | 1.9000e-07 | 1.9000e-07 |          19 |           19 |   100000000 |     13326.5 |reached max iter       \n",
      "     0.04 | 9.7680e-08 | 9.7680e-08 |           6 |            6 |    61425000 |      8177.3 |iter: 12284/20000\r"
     ]
    },
    {
     "name": "stderr",
     "output_type": "stream",
     "text": [
      "IOPub message rate exceeded.\n",
      "The notebook server will temporarily stop sending output\n",
      "to the client in order to avoid crashing it.\n",
      "To change this limit, set the config variable\n",
      "`--NotebookApp.iopub_msg_rate_limit`.\n",
      "\n",
      "Current values:\n",
      "NotebookApp.iopub_msg_rate_limit=1000.0 (msgs/sec)\n",
      "NotebookApp.rate_limit_window=3.0 (secs)\n",
      "\n"
     ]
    },
    {
     "name": "stdout",
     "output_type": "stream",
     "text": [
      "     0.04 | 8.0000e-08 | 8.0000e-08 |           8 |            8 |   100000000 |     13308.7 |reached max iter       \n"
     ]
    },
    {
     "data": {
      "text/plain": [
       "(<tf.Tensor: shape=(11,), dtype=float64, numpy=\n",
       " array([4.74200000e-01, 2.24400000e-01, 6.74000000e-02, 1.52000000e-02,\n",
       "        2.40000000e-03, 2.65789474e-04, 5.16795866e-05, 8.83002208e-06,\n",
       "        1.36472194e-06, 1.90000000e-07, 8.00000000e-08])>,\n",
       " <tf.Tensor: shape=(11,), dtype=float64, numpy=\n",
       " array([4.74200000e-01, 2.24400000e-01, 6.74000000e-02, 1.52000000e-02,\n",
       "        2.40000000e-03, 2.65789474e-04, 5.16795866e-05, 8.83002208e-06,\n",
       "        1.36472194e-06, 1.90000000e-07, 8.00000000e-08])>)"
      ]
     },
     "execution_count": 6,
     "metadata": {},
     "output_type": "execute_result"
    }
   ],
   "source": [
    "num_iter1 = tf.constant(64)\n",
    "num_iter2 = tf.constant(16)\n",
    "factor1 = tf.constant(1.0)\n",
    "factor2 = tf.constant(1.0)\n",
    "\n",
    "decoder1 = QLDPCBPDecoder(code=code, num_iter=num_iter1, normalization_factor=factor1, cn_type=\"boxplus-phi\", trainable=False, stage_one=True)\n",
    "decoder2 = QLDPCBPDecoder(code=code, num_iter=num_iter2, normalization_factor=factor2, cn_type=\"boxplus-phi\", trainable=False, stage_one=True)\n",
    "\n",
    "model_eval = Sandwich_BP_GNN_Evaluation_Model(code, [decoder1]+[decoder2]*5, [G]*5, num_layers=6)\n",
    "p = np.arange(0.04, 0.141, 0.01)[::-1]\n",
    "ber_plot.simulate(model_eval,\n",
    "              ebno_dbs=p,\n",
    "              batch_size=bs,\n",
    "              num_target_block_errors=100, \n",
    "              legend=f\"feedback GNN {factor1.numpy():.2f} (G,G,G,G,G)\",\n",
    "              soft_estimates=True,\n",
    "              max_mc_iter=20000,\n",
    "              early_stop=True, \n",
    "              add_bler=True, \n",
    "              show_fig=False, \n",
    "              qldpc=True,\n",
    "              forward_keyboard_interrupt=False)\n"
   ]
  },
  {
   "cell_type": "markdown",
   "id": "893e6fcd",
   "metadata": {},
   "source": [
    "## Factor 0.8"
   ]
  },
  {
   "cell_type": "code",
   "execution_count": 3,
   "id": "183d4db0",
   "metadata": {},
   "outputs": [
    {
     "name": "stdout",
     "output_type": "stream",
     "text": [
      "Tracing MLP for num_units=ListWrapper([<tf.Tensor: shape=(), dtype=int32, numpy=40>, <tf.Tensor: shape=(), dtype=int32, numpy=20>]), input shape=(None, 2646, 4), input type=<class 'tensorflow.python.framework.ops.Tensor'>.\n",
      "Tracing MLP for num_units=ListWrapper([<tf.Tensor: shape=(), dtype=int32, numpy=40>, <tf.Tensor: shape=(), dtype=int32, numpy=20>]), input shape=(None, 2646, 4), input type=<class 'tensorflow.python.framework.ops.Tensor'>.\n",
      "Tracing reduce msg in update VN embedding for msg shape=(None, 2646, 20)\n",
      "Tracing MLP for num_units=ListWrapper([<tf.Tensor: shape=(), dtype=int32, numpy=40>, <tf.Tensor: shape=(), dtype=int32, numpy=20>]), input shape=(None, 882, 43), input type=<class 'tensorflow.python.framework.ops.Tensor'>.\n",
      "        p |    Flagged |       BLER | flag errors | block errors |  num blocks | runtime [s] |    status\n",
      "---------------------------------------------------------------------------------------------------------------------------------------\n",
      "     0.14 | 3.4020e-01 | 3.4020e-01 |        1701 |         1701 |        5000 |        10.6 |reached target block errors\n",
      "     0.13 | 1.3940e-01 | 1.3940e-01 |         697 |          697 |        5000 |         0.5 |reached target block errors\n",
      "     0.12 | 3.9000e-02 | 3.9000e-02 |         195 |          195 |        5000 |         0.5 |reached target block errors\n",
      "     0.11 | 8.7333e-03 | 8.7333e-03 |         131 |          131 |       15000 |         1.4 |reached target block errors\n",
      "      0.1 | 1.6615e-03 | 1.6615e-03 |         108 |          108 |       65000 |         6.2 |reached target block errors\n",
      "     0.09 | 3.0769e-04 | 3.0769e-04 |         100 |          100 |      325000 |        30.7 |reached target block errors\n",
      "     0.08 | 6.0976e-05 | 6.0976e-05 |         100 |          100 |     1640000 |       153.4 |reached target block errors\n",
      "     0.07 | 1.2731e-05 | 1.2731e-05 |         100 |          100 |     7855000 |       722.6 |reached target block errors\n",
      "     0.06 | 0.0000e+00 | 0.0000e+00 |           0 |            0 |       10000 |         0.9 |iter: 1/200000\n",
      "Simulation stopped by the user @ EbNo = 0.05999999865889549 dB\n"
     ]
    },
    {
     "data": {
      "text/plain": [
       "(<tf.Tensor: shape=(9,), dtype=float64, numpy=\n",
       " array([3.40200000e-01, 1.39400000e-01, 3.90000000e-02, 8.73333333e-03,\n",
       "        1.66153846e-03, 3.07692308e-04, 6.09756098e-05, 1.27307447e-05,\n",
       "        0.00000000e+00])>,\n",
       " <tf.Tensor: shape=(9,), dtype=float64, numpy=\n",
       " array([3.40200000e-01, 1.39400000e-01, 3.90000000e-02, 8.73333333e-03,\n",
       "        1.66153846e-03, 3.07692308e-04, 6.09756098e-05, 1.27307447e-05,\n",
       "        0.00000000e+00])>)"
      ]
     },
     "execution_count": 3,
     "metadata": {},
     "output_type": "execute_result"
    }
   ],
   "source": [
    "num_iter1 = tf.constant(64)\n",
    "num_iter2 = tf.constant(16)\n",
    "factor1 = tf.constant(0.8)\n",
    "factor2 = tf.constant(1.0)\n",
    "\n",
    "decoder1 = QLDPCBPDecoder(code=code, num_iter=num_iter1, normalization_factor=factor1, cn_type=\"boxplus-phi\", trainable=False, stage_one=True)\n",
    "decoder2 = QLDPCBPDecoder(code=code, num_iter=num_iter2, normalization_factor=factor2, cn_type=\"boxplus-phi\", trainable=False, stage_one=True)\n",
    "\n",
    "model_eval = Sandwich_BP_GNN_Evaluation_Model(code, [decoder1]+[decoder2]*3, [G]*3, num_layers=4)\n",
    "p = np.arange(0.06, 0.141, 0.01)[::-1]\n",
    "ber_plot.simulate(model_eval,\n",
    "              ebno_dbs=p,\n",
    "              batch_size=bs,\n",
    "              num_target_block_errors=100, \n",
    "              legend=f\"feedback GNN {factor1.numpy():.2f} (G,G,G)\",\n",
    "              soft_estimates=True,\n",
    "              max_mc_iter=max_iter,\n",
    "              early_stop=True, \n",
    "              add_bler=True, \n",
    "              show_fig=False, \n",
    "              qldpc=True,\n",
    "              forward_keyboard_interrupt=False)"
   ]
  },
  {
   "cell_type": "code",
   "execution_count": 5,
   "id": "10f55c20",
   "metadata": {},
   "outputs": [
    {
     "name": "stdout",
     "output_type": "stream",
     "text": [
      "        p |    Flagged |       BLER | flag errors | block errors |  num blocks | runtime [s] |    status\n",
      "---------------------------------------------------------------------------------------------------------------------------------------\n",
      "     0.14 | 3.3040e-01 | 3.3040e-01 |        1652 |         1652 |        5000 |        13.7 |reached target block errors\n",
      "     0.13 | 1.3360e-01 | 1.3360e-01 |         668 |          668 |        5000 |         0.7 |reached target block errors\n",
      "     0.12 | 3.6800e-02 | 3.6800e-02 |         184 |          184 |        5000 |         0.7 |reached target block errors\n",
      "     0.11 | 8.2000e-03 | 8.2000e-03 |         123 |          123 |       15000 |         2.0 |reached target block errors\n",
      "      0.1 | 1.3867e-03 | 1.3867e-03 |         104 |          104 |       75000 |        10.0 |reached target block errors\n",
      "     0.09 | 2.4337e-04 | 2.4337e-04 |         101 |          101 |      415000 |        55.5 |reached target block errors\n",
      "     0.08 | 5.8651e-05 | 5.8651e-05 |         100 |          100 |     1705000 |       228.3 |reached target block errors\n",
      "     0.07 | 1.0178e-05 | 1.0178e-05 |         100 |          100 |     9825000 |      1320.0 |reached target block errors\n"
     ]
    },
    {
     "data": {
      "text/plain": [
       "(<tf.Tensor: shape=(8,), dtype=float64, numpy=\n",
       " array([3.30400000e-01, 1.33600000e-01, 3.68000000e-02, 8.20000000e-03,\n",
       "        1.38666667e-03, 2.43373494e-04, 5.86510264e-05, 1.01781170e-05])>,\n",
       " <tf.Tensor: shape=(8,), dtype=float64, numpy=\n",
       " array([3.30400000e-01, 1.33600000e-01, 3.68000000e-02, 8.20000000e-03,\n",
       "        1.38666667e-03, 2.43373494e-04, 5.86510264e-05, 1.01781170e-05])>)"
      ]
     },
     "execution_count": 5,
     "metadata": {},
     "output_type": "execute_result"
    }
   ],
   "source": [
    "num_iter1 = tf.constant(64)\n",
    "num_iter2 = tf.constant(16)\n",
    "factor1 = tf.constant(0.8)\n",
    "factor2 = tf.constant(1.0)\n",
    "\n",
    "decoder1 = QLDPCBPDecoder(code=code, num_iter=num_iter1, normalization_factor=factor1, cn_type=\"boxplus-phi\", trainable=False, stage_one=True)\n",
    "decoder2 = QLDPCBPDecoder(code=code, num_iter=num_iter2, normalization_factor=factor2, cn_type=\"boxplus-phi\", trainable=False, stage_one=True)\n",
    "\n",
    "model_eval = Sandwich_BP_GNN_Evaluation_Model(code, [decoder1]+[decoder2]*5, [G]*5, num_layers=6)\n",
    "p = np.arange(0.07, 0.141, 0.01)[::-1]\n",
    "ber_plot.simulate(model_eval,\n",
    "              ebno_dbs=p,\n",
    "              batch_size=bs,\n",
    "              num_target_block_errors=100,\n",
    "              legend=f\"feedback GNN {factor1.numpy():.2f} (G,G,G,G,G)\",\n",
    "              soft_estimates=True,\n",
    "              max_mc_iter=max_iter,\n",
    "              early_stop=True,\n",
    "              add_bler=True,\n",
    "              show_fig=False,\n",
    "              qldpc=True,\n",
    "              forward_keyboard_interrupt=False)"
   ]
  }
 ],
 "metadata": {
  "kernelspec": {
   "display_name": "Python 3 (ipykernel)",
   "language": "python",
   "name": "python3"
  },
  "language_info": {
   "codemirror_mode": {
    "name": "ipython",
    "version": 3
   },
   "file_extension": ".py",
   "mimetype": "text/x-python",
   "name": "python",
   "nbconvert_exporter": "python",
   "pygments_lexer": "ipython3",
   "version": "3.9.16"
  }
 },
 "nbformat": 4,
 "nbformat_minor": 5
}
